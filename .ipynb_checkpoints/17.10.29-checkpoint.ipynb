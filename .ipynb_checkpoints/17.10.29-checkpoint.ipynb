{
 "cells": [
  {
   "cell_type": "markdown",
   "metadata": {},
   "source": [
    "## 组合数学《特殊计数6》笔记整理"
   ]
  },
  {
   "cell_type": "markdown",
   "metadata": {},
   "source": [
    "## 《微机原理》第二次作业批改"
   ]
  },
  {
   "cell_type": "markdown",
   "metadata": {},
   "source": [
    "### 段地址+偏移\n",
    "1F8F:0000H\n",
    "### 大端模式\n",
    "高位在高地址，低位在低地址  \n",
    "0:00,1:00,2:8F,3:1F  \n",
    "但是存放顺序，从低地址开始"
   ]
  },
  {
   "cell_type": "markdown",
   "metadata": {},
   "source": [
    "### 汇编有符号数和无符号数\n",
    "在数据段定义数据时，并没有有符号数和无符号数数据类型。  \n",
    "在编译阶段，保存的是数据的补码。  \n",
    "db 8位数据，1个字节。无符号表示范围为0-255；有符号表示范围-128-127；  \n",
    "A DB, 200  \n",
    "B DB，-100\n",
    "A中存放的数据是C8  \n",
    "B中存放的数据是9C；-100的十六进制-64H，反码为9B，补码为9C  \n",
    "这样的存放方式会出现计算错误么？"
   ]
  },
  {
   "cell_type": "markdown",
   "metadata": {},
   "source": [
    "## 《普适计算》论文"
   ]
  },
  {
   "cell_type": "markdown",
   "metadata": {},
   "source": [
    "## leetcode+github+jupyter notebook"
   ]
  },
  {
   "cell_type": "markdown",
   "metadata": {},
   "source": [
    "## 健身"
   ]
  }
 ],
 "metadata": {
  "kernelspec": {
   "display_name": "Python 3",
   "language": "python",
   "name": "python3"
  },
  "language_info": {
   "codemirror_mode": {
    "name": "ipython",
    "version": 3
   },
   "file_extension": ".py",
   "mimetype": "text/x-python",
   "name": "python",
   "nbconvert_exporter": "python",
   "pygments_lexer": "ipython3",
   "version": "3.6.1"
  },
  "toc": {
   "colors": {
    "hover_highlight": "#DAA520",
    "navigate_num": "#000000",
    "navigate_text": "#333333",
    "running_highlight": "#FF0000",
    "selected_highlight": "#FFD700",
    "sidebar_border": "#EEEEEE",
    "wrapper_background": "#FFFFFF"
   },
   "moveMenuLeft": true,
   "nav_menu": {
    "height": "156px",
    "width": "252px"
   },
   "navigate_menu": true,
   "number_sections": true,
   "sideBar": true,
   "threshold": 4,
   "toc_cell": false,
   "toc_section_display": "block",
   "toc_window_display": false,
   "widenNotebook": false
  }
 },
 "nbformat": 4,
 "nbformat_minor": 2
}
